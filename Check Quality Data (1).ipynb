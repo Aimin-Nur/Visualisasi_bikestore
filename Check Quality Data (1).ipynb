{
 "cells": [
  {
   "cell_type": "code",
   "execution_count": 17,
   "id": "afac4577-5203-49db-aa3a-1cd89ff75919",
   "metadata": {
    "tags": []
   },
   "outputs": [
    {
     "data": {
      "text/html": [
       "<div>\n",
       "<style scoped>\n",
       "    .dataframe tbody tr th:only-of-type {\n",
       "        vertical-align: middle;\n",
       "    }\n",
       "\n",
       "    .dataframe tbody tr th {\n",
       "        vertical-align: top;\n",
       "    }\n",
       "\n",
       "    .dataframe thead th {\n",
       "        text-align: right;\n",
       "    }\n",
       "</style>\n",
       "<table border=\"1\" class=\"dataframe\">\n",
       "  <thead>\n",
       "    <tr style=\"text-align: right;\">\n",
       "      <th></th>\n",
       "      <th>1</th>\n",
       "      <th>Johnathan Velazquez</th>\n",
       "      <th>Pleasanton</th>\n",
       "      <th>CA</th>\n",
       "      <th>2016-01-01</th>\n",
       "      <th>2</th>\n",
       "      <th>1199.98</th>\n",
       "      <th>Electra Townie Original 7D EQ - 2016</th>\n",
       "      <th>Cruisers Bicycles</th>\n",
       "      <th>Electra</th>\n",
       "      <th>Santa Cruz Bikes</th>\n",
       "      <th>Mireya Copeland</th>\n",
       "    </tr>\n",
       "  </thead>\n",
       "  <tbody>\n",
       "    <tr>\n",
       "      <th>0</th>\n",
       "      <td>1</td>\n",
       "      <td>Johnathan Velazquez</td>\n",
       "      <td>Pleasanton</td>\n",
       "      <td>CA</td>\n",
       "      <td>2016-01-01</td>\n",
       "      <td>1</td>\n",
       "      <td>599.99</td>\n",
       "      <td>Electra Townie Original 7D EQ - Women's - 2016</td>\n",
       "      <td>Cruisers Bicycles</td>\n",
       "      <td>Electra</td>\n",
       "      <td>Santa Cruz Bikes</td>\n",
       "      <td>Mireya Copeland</td>\n",
       "    </tr>\n",
       "    <tr>\n",
       "      <th>1</th>\n",
       "      <td>1</td>\n",
       "      <td>Johnathan Velazquez</td>\n",
       "      <td>Pleasanton</td>\n",
       "      <td>CA</td>\n",
       "      <td>2016-01-01</td>\n",
       "      <td>2</td>\n",
       "      <td>3098.00</td>\n",
       "      <td>Surly Straggler - 2016</td>\n",
       "      <td>Cyclocross Bicycles</td>\n",
       "      <td>Surly</td>\n",
       "      <td>Santa Cruz Bikes</td>\n",
       "      <td>Mireya Copeland</td>\n",
       "    </tr>\n",
       "    <tr>\n",
       "      <th>2</th>\n",
       "      <td>1</td>\n",
       "      <td>Johnathan Velazquez</td>\n",
       "      <td>Pleasanton</td>\n",
       "      <td>CA</td>\n",
       "      <td>2016-01-01</td>\n",
       "      <td>1</td>\n",
       "      <td>2899.99</td>\n",
       "      <td>Trek Fuel EX 8 29 - 2016</td>\n",
       "      <td>Mountain Bikes</td>\n",
       "      <td>Trek</td>\n",
       "      <td>Santa Cruz Bikes</td>\n",
       "      <td>Mireya Copeland</td>\n",
       "    </tr>\n",
       "    <tr>\n",
       "      <th>3</th>\n",
       "      <td>1</td>\n",
       "      <td>Johnathan Velazquez</td>\n",
       "      <td>Pleasanton</td>\n",
       "      <td>CA</td>\n",
       "      <td>2016-01-01</td>\n",
       "      <td>2</td>\n",
       "      <td>3599.98</td>\n",
       "      <td>Trek Remedy 29 Carbon Frameset - 2016</td>\n",
       "      <td>Mountain Bikes</td>\n",
       "      <td>Trek</td>\n",
       "      <td>Santa Cruz Bikes</td>\n",
       "      <td>Mireya Copeland</td>\n",
       "    </tr>\n",
       "    <tr>\n",
       "      <th>4</th>\n",
       "      <td>2</td>\n",
       "      <td>Jaqueline Cummings</td>\n",
       "      <td>Huntington Station</td>\n",
       "      <td>NY</td>\n",
       "      <td>2016-01-01</td>\n",
       "      <td>2</td>\n",
       "      <td>1199.98</td>\n",
       "      <td>Electra Townie Original 7D EQ - 2016</td>\n",
       "      <td>Cruisers Bicycles</td>\n",
       "      <td>Electra</td>\n",
       "      <td>Baldwin Bikes</td>\n",
       "      <td>Marcelene Boyer</td>\n",
       "    </tr>\n",
       "  </tbody>\n",
       "</table>\n",
       "</div>"
      ],
      "text/plain": [
       "   1  Johnathan Velazquez          Pleasanton  CA  2016-01-01  2  1199.98  \\\n",
       "0  1  Johnathan Velazquez          Pleasanton  CA  2016-01-01  1   599.99   \n",
       "1  1  Johnathan Velazquez          Pleasanton  CA  2016-01-01  2  3098.00   \n",
       "2  1  Johnathan Velazquez          Pleasanton  CA  2016-01-01  1  2899.99   \n",
       "3  1  Johnathan Velazquez          Pleasanton  CA  2016-01-01  2  3599.98   \n",
       "4  2   Jaqueline Cummings  Huntington Station  NY  2016-01-01  2  1199.98   \n",
       "\n",
       "             Electra Townie Original 7D EQ - 2016    Cruisers Bicycles  \\\n",
       "0  Electra Townie Original 7D EQ - Women's - 2016    Cruisers Bicycles   \n",
       "1                          Surly Straggler - 2016  Cyclocross Bicycles   \n",
       "2                        Trek Fuel EX 8 29 - 2016       Mountain Bikes   \n",
       "3           Trek Remedy 29 Carbon Frameset - 2016       Mountain Bikes   \n",
       "4            Electra Townie Original 7D EQ - 2016    Cruisers Bicycles   \n",
       "\n",
       "   Electra  Santa Cruz Bikes  Mireya Copeland  \n",
       "0  Electra  Santa Cruz Bikes  Mireya Copeland  \n",
       "1    Surly  Santa Cruz Bikes  Mireya Copeland  \n",
       "2     Trek  Santa Cruz Bikes  Mireya Copeland  \n",
       "3     Trek  Santa Cruz Bikes  Mireya Copeland  \n",
       "4  Electra     Baldwin Bikes  Marcelene Boyer  "
      ]
     },
     "execution_count": 17,
     "metadata": {},
     "output_type": "execute_result"
    }
   ],
   "source": [
    "import pandas as pd\n",
    "import numpy as np\n",
    "import matplotlib.pyplot as plt\n",
    "import seaborn as sns\n",
    "\n",
    "\n",
    "pd.set_option ('display.max_columns', None)\n",
    "nameFile = 'd:\\sampel data\\BikeStore - Before Cleaning.csv'\n",
    "data = pd.read_csv(nameFile, sep=\";\")\n",
    "data.head()"
   ]
  },
  {
   "cell_type": "code",
   "execution_count": 18,
   "id": "2df2f05d-44e1-4b57-98cc-4216e4ccca1c",
   "metadata": {},
   "outputs": [
    {
     "data": {
      "text/html": [
       "<div>\n",
       "<style scoped>\n",
       "    .dataframe tbody tr th:only-of-type {\n",
       "        vertical-align: middle;\n",
       "    }\n",
       "\n",
       "    .dataframe tbody tr th {\n",
       "        vertical-align: top;\n",
       "    }\n",
       "\n",
       "    .dataframe thead th {\n",
       "        text-align: right;\n",
       "    }\n",
       "</style>\n",
       "<table border=\"1\" class=\"dataframe\">\n",
       "  <thead>\n",
       "    <tr style=\"text-align: right;\">\n",
       "      <th></th>\n",
       "      <th>Order ID</th>\n",
       "      <th>customer</th>\n",
       "      <th>city</th>\n",
       "      <th>state</th>\n",
       "      <th>order_date</th>\n",
       "      <th>total_units</th>\n",
       "      <th>revenue</th>\n",
       "      <th>product_name</th>\n",
       "      <th>category_name</th>\n",
       "      <th>brand_name</th>\n",
       "      <th>store_name</th>\n",
       "      <th>sales_rep</th>\n",
       "    </tr>\n",
       "  </thead>\n",
       "  <tbody>\n",
       "    <tr>\n",
       "      <th>0</th>\n",
       "      <td>1</td>\n",
       "      <td>Johnathan Velazquez</td>\n",
       "      <td>Pleasanton</td>\n",
       "      <td>CA</td>\n",
       "      <td>2016-01-01</td>\n",
       "      <td>2</td>\n",
       "      <td>1199.98</td>\n",
       "      <td>Electra Townie Original 7D EQ - 2016</td>\n",
       "      <td>Cruisers Bicycles</td>\n",
       "      <td>Electra</td>\n",
       "      <td>Santa Cruz Bikes</td>\n",
       "      <td>Mireya Copeland</td>\n",
       "    </tr>\n",
       "    <tr>\n",
       "      <th>1</th>\n",
       "      <td>1</td>\n",
       "      <td>Johnathan Velazquez</td>\n",
       "      <td>Pleasanton</td>\n",
       "      <td>CA</td>\n",
       "      <td>2016-01-01</td>\n",
       "      <td>1</td>\n",
       "      <td>599.99</td>\n",
       "      <td>Electra Townie Original 7D EQ - Women's - 2016</td>\n",
       "      <td>Cruisers Bicycles</td>\n",
       "      <td>Electra</td>\n",
       "      <td>Santa Cruz Bikes</td>\n",
       "      <td>Mireya Copeland</td>\n",
       "    </tr>\n",
       "    <tr>\n",
       "      <th>2</th>\n",
       "      <td>1</td>\n",
       "      <td>Johnathan Velazquez</td>\n",
       "      <td>Pleasanton</td>\n",
       "      <td>CA</td>\n",
       "      <td>2016-01-01</td>\n",
       "      <td>2</td>\n",
       "      <td>3098.00</td>\n",
       "      <td>Surly Straggler - 2016</td>\n",
       "      <td>Cyclocross Bicycles</td>\n",
       "      <td>Surly</td>\n",
       "      <td>Santa Cruz Bikes</td>\n",
       "      <td>Mireya Copeland</td>\n",
       "    </tr>\n",
       "    <tr>\n",
       "      <th>3</th>\n",
       "      <td>1</td>\n",
       "      <td>Johnathan Velazquez</td>\n",
       "      <td>Pleasanton</td>\n",
       "      <td>CA</td>\n",
       "      <td>2016-01-01</td>\n",
       "      <td>1</td>\n",
       "      <td>2899.99</td>\n",
       "      <td>Trek Fuel EX 8 29 - 2016</td>\n",
       "      <td>Mountain Bikes</td>\n",
       "      <td>Trek</td>\n",
       "      <td>Santa Cruz Bikes</td>\n",
       "      <td>Mireya Copeland</td>\n",
       "    </tr>\n",
       "    <tr>\n",
       "      <th>4</th>\n",
       "      <td>1</td>\n",
       "      <td>Johnathan Velazquez</td>\n",
       "      <td>Pleasanton</td>\n",
       "      <td>CA</td>\n",
       "      <td>2016-01-01</td>\n",
       "      <td>2</td>\n",
       "      <td>3599.98</td>\n",
       "      <td>Trek Remedy 29 Carbon Frameset - 2016</td>\n",
       "      <td>Mountain Bikes</td>\n",
       "      <td>Trek</td>\n",
       "      <td>Santa Cruz Bikes</td>\n",
       "      <td>Mireya Copeland</td>\n",
       "    </tr>\n",
       "  </tbody>\n",
       "</table>\n",
       "</div>"
      ],
      "text/plain": [
       "   Order ID             customer        city state  order_date  total_units  \\\n",
       "0         1  Johnathan Velazquez  Pleasanton    CA  2016-01-01            2   \n",
       "1         1  Johnathan Velazquez  Pleasanton    CA  2016-01-01            1   \n",
       "2         1  Johnathan Velazquez  Pleasanton    CA  2016-01-01            2   \n",
       "3         1  Johnathan Velazquez  Pleasanton    CA  2016-01-01            1   \n",
       "4         1  Johnathan Velazquez  Pleasanton    CA  2016-01-01            2   \n",
       "\n",
       "   revenue                                    product_name  \\\n",
       "0  1199.98            Electra Townie Original 7D EQ - 2016   \n",
       "1   599.99  Electra Townie Original 7D EQ - Women's - 2016   \n",
       "2  3098.00                          Surly Straggler - 2016   \n",
       "3  2899.99                        Trek Fuel EX 8 29 - 2016   \n",
       "4  3599.98           Trek Remedy 29 Carbon Frameset - 2016   \n",
       "\n",
       "         category_name brand_name        store_name        sales_rep  \n",
       "0    Cruisers Bicycles    Electra  Santa Cruz Bikes  Mireya Copeland  \n",
       "1    Cruisers Bicycles    Electra  Santa Cruz Bikes  Mireya Copeland  \n",
       "2  Cyclocross Bicycles      Surly  Santa Cruz Bikes  Mireya Copeland  \n",
       "3       Mountain Bikes       Trek  Santa Cruz Bikes  Mireya Copeland  \n",
       "4       Mountain Bikes       Trek  Santa Cruz Bikes  Mireya Copeland  "
      ]
     },
     "execution_count": 18,
     "metadata": {},
     "output_type": "execute_result"
    }
   ],
   "source": [
    "header = ['Order ID', 'customer', 'city', 'state', 'order_date', 'total_units','revenue','product_name','category_name', \n",
    "          'brand_name','store_name','sales_rep']\n",
    "data = pd.read_csv('d:\\sampel data\\BikeStore - Before Cleaning.csv', header=None, names=header, sep=\";\")\n",
    "data.head()"
   ]
  },
  {
   "cell_type": "code",
   "execution_count": 19,
   "id": "33ca10cc-aec3-458c-b87d-3d28ed29a484",
   "metadata": {
    "tags": []
   },
   "outputs": [
    {
     "data": {
      "text/plain": [
       "(4722, 12)"
      ]
     },
     "execution_count": 19,
     "metadata": {},
     "output_type": "execute_result"
    }
   ],
   "source": [
    "data.shape"
   ]
  },
  {
   "cell_type": "markdown",
   "id": "fd0e12ff-8876-4892-afe4-35c29e4d3309",
   "metadata": {
    "tags": []
   },
   "source": [
    "### Data Quality Check\n",
    "\n",
    " 1. Apakah ada features/kolom yang data tyoenya tidak sesuai?\n",
    " 2. Apakah ada duplicate, missing values atau otliers? jika ada bagaimana mengatasinya?\n",
    " 3. Apakah terdapat distribusi data yang tidak sesuai?\n"
   ]
  },
  {
   "cell_type": "markdown",
   "id": "93e8cfb7-175f-484d-8646-1db69b1f5ede",
   "metadata": {},
   "source": [
    "### Validation 1\n",
    "\n",
    " 1. Feature atau kolom yang tidak sesuai dengan type data"
   ]
  },
  {
   "cell_type": "code",
   "execution_count": 20,
   "id": "118ee988-f66f-49e4-9502-01fefb7654af",
   "metadata": {
    "tags": []
   },
   "outputs": [
    {
     "name": "stdout",
     "output_type": "stream",
     "text": [
      "<class 'pandas.core.frame.DataFrame'>\n",
      "RangeIndex: 4722 entries, 0 to 4721\n",
      "Data columns (total 12 columns):\n",
      " #   Column         Non-Null Count  Dtype  \n",
      "---  ------         --------------  -----  \n",
      " 0   Order ID       4722 non-null   int64  \n",
      " 1   customer       4722 non-null   object \n",
      " 2   city           4722 non-null   object \n",
      " 3   state          4722 non-null   object \n",
      " 4   order_date     4722 non-null   object \n",
      " 5   total_units    4722 non-null   int64  \n",
      " 6   revenue        4722 non-null   float64\n",
      " 7   product_name   4722 non-null   object \n",
      " 8   category_name  4722 non-null   object \n",
      " 9   brand_name     4722 non-null   object \n",
      " 10  store_name     4722 non-null   object \n",
      " 11  sales_rep      4722 non-null   object \n",
      "dtypes: float64(1), int64(2), object(9)\n",
      "memory usage: 442.8+ KB\n"
     ]
    }
   ],
   "source": [
    "data.info()"
   ]
  },
  {
   "cell_type": "code",
   "execution_count": 21,
   "id": "550fa71c-b0c0-491f-b50a-cd0a0f27dc44",
   "metadata": {
    "tags": []
   },
   "outputs": [
    {
     "name": "stdout",
     "output_type": "stream",
     "text": [
      "<class 'pandas.core.frame.DataFrame'>\n",
      "RangeIndex: 4722 entries, 0 to 4721\n",
      "Data columns (total 12 columns):\n",
      " #   Column         Non-Null Count  Dtype         \n",
      "---  ------         --------------  -----         \n",
      " 0   Order ID       4722 non-null   int64         \n",
      " 1   customer       4722 non-null   object        \n",
      " 2   city           4722 non-null   object        \n",
      " 3   state          4722 non-null   object        \n",
      " 4   order_date     4722 non-null   datetime64[ns]\n",
      " 5   total_units    4722 non-null   int64         \n",
      " 6   revenue        4722 non-null   float64       \n",
      " 7   product_name   4722 non-null   object        \n",
      " 8   category_name  4722 non-null   object        \n",
      " 9   brand_name     4722 non-null   object        \n",
      " 10  store_name     4722 non-null   object        \n",
      " 11  sales_rep      4722 non-null   object        \n",
      "dtypes: datetime64[ns](1), float64(1), int64(2), object(8)\n",
      "memory usage: 442.8+ KB\n"
     ]
    }
   ],
   "source": [
    "## Dari info data type diatas terdapat 1 kolom yang tidak sesuai dengan type datanya yaitu order_date (date bukan object)\n",
    "\n",
    "data['order_date'] = pd.to_datetime(data['order_date'])\n",
    "data.info()"
   ]
  },
  {
   "cell_type": "markdown",
   "id": "3ebdcdd1-3c29-4e37-a1f6-0585fe0a2b83",
   "metadata": {},
   "source": [
    "### Validation 2\n",
    "\n",
    " 2. Duplicate, missing values dan outliers"
   ]
  },
  {
   "cell_type": "markdown",
   "id": "281993b4-194e-4a12-9ed0-c71cb689c23e",
   "metadata": {},
   "source": [
    "### DUPLICATE\n"
   ]
  },
  {
   "cell_type": "code",
   "execution_count": 22,
   "id": "9f1456be-4604-4ab8-a6ad-90a957040afd",
   "metadata": {
    "tags": []
   },
   "outputs": [
    {
     "data": {
      "text/plain": [
       "0       False\n",
       "1       False\n",
       "2       False\n",
       "3       False\n",
       "4       False\n",
       "        ...  \n",
       "4717    False\n",
       "4718    False\n",
       "4719    False\n",
       "4720    False\n",
       "4721    False\n",
       "Length: 4722, dtype: bool"
      ]
     },
     "execution_count": 22,
     "metadata": {},
     "output_type": "execute_result"
    }
   ],
   "source": [
    "data.duplicated()"
   ]
  },
  {
   "cell_type": "code",
   "execution_count": 23,
   "id": "90d2a972-5169-419f-9afa-938ce2f86fa8",
   "metadata": {
    "tags": []
   },
   "outputs": [
    {
     "data": {
      "text/plain": [
       "0"
      ]
     },
     "execution_count": 23,
     "metadata": {},
     "output_type": "execute_result"
    }
   ],
   "source": [
    "### Jika nilainya false berarti tidak ada kolom yang yang nilainya nya sama dengan kolom-kolom lain\n",
    "data.duplicated().sum()"
   ]
  },
  {
   "cell_type": "markdown",
   "id": "e6c2ba60-f88d-49a2-9627-886a0844d018",
   "metadata": {},
   "source": [
    "### Missing Values"
   ]
  },
  {
   "cell_type": "code",
   "execution_count": 24,
   "id": "077622cd-cb46-4b03-b50e-78dc2bd65d29",
   "metadata": {
    "tags": []
   },
   "outputs": [
    {
     "data": {
      "text/plain": [
       "Order ID         0\n",
       "customer         0\n",
       "city             0\n",
       "state            0\n",
       "order_date       0\n",
       "total_units      0\n",
       "revenue          0\n",
       "product_name     0\n",
       "category_name    0\n",
       "brand_name       0\n",
       "store_name       0\n",
       "sales_rep        0\n",
       "dtype: int64"
      ]
     },
     "execution_count": 24,
     "metadata": {},
     "output_type": "execute_result"
    }
   ],
   "source": [
    "data.isna().sum().sort_values(ascending=False)"
   ]
  },
  {
   "cell_type": "markdown",
   "id": "a7ded662-61e2-4ed8-a343-789857d22410",
   "metadata": {},
   "source": [
    "### Outliers"
   ]
  },
  {
   "cell_type": "code",
   "execution_count": 32,
   "id": "1dd51751-fc22-4a6c-9d16-ba0f3336a00d",
   "metadata": {
    "tags": []
   },
   "outputs": [
    {
     "data": {
      "image/png": "[encoded data removed]",
      "text/plain": [
       "<Figure size 1200x1400 with 16 Axes>"
      ]
     },
     "metadata": {},
     "output_type": "display_data"
    }
   ],
   "source": [
    "data_to_plot = data.select_dtypes(include=['float','int','datetime'])\n",
    "data_to_plot.plot(subplots=True, layout=(4,4), kind='line', figsize=(12,14))\n",
    "plt.subplots_adjust(wspace = 0.5);"
   ]
  },
  {
   "cell_type": "code",
   "execution_count": 33,
   "id": "5a8b8bce-6336-45f4-9cf8-7530e4c15e78",
   "metadata": {},
   "outputs": [],
   "source": [
    "### Kesimpulan tidak ada data yang tidak masuk akal (outliers)"
   ]
  },
  {
   "cell_type": "markdown",
   "id": "85923ee9-391a-4c61-85ce-f35efb151a03",
   "metadata": {},
   "source": [
    "### Validation 3\n",
    "\n",
    " 3. Distribusi data"
   ]
  },
  {
   "cell_type": "code",
   "execution_count": 34,
   "id": "741b649c-6948-4a42-9190-0250328058da",
   "metadata": {
    "tags": []
   },
   "outputs": [
    {
     "data": {
      "text/plain": [
       "Index(['Order ID', 'order_date', 'total_units', 'revenue'], dtype='object')"
      ]
     },
     "execution_count": 34,
     "metadata": {},
     "output_type": "execute_result"
    }
   ],
   "source": [
    "numeric = data_to_plot.columns\n",
    "numeric"
   ]
  },
  {
   "cell_type": "code",
   "execution_count": 35,
   "id": "b27c49a7-8875-42d5-b407-8df9b15e13d6",
   "metadata": {
    "tags": []
   },
   "outputs": [
    {
     "name": "stderr",
     "output_type": "stream",
     "text": [
      "C:\\Users\\muh.muhaimin nur\\AppData\\Local\\Temp\\ipykernel_11256\\2407473842.py:4: UserWarning: To output multiple subplots, the figure containing the passed axes is being cleared.\n",
      "  data.hist(bins=50, ax=ax, layout=(4,4), column=numeric)\n"
     ]
    },
    {
     "data": {
      "image/png": "[encoded data removed]",
      "text/plain": [
       "<Figure size 1500x1000 with 16 Axes>"
      ]
     },
     "metadata": {},
     "output_type": "display_data"
    }
   ],
   "source": [
    "fig = plt.figure(figsize=(15,10))\n",
    "ax = plt.gca()\n",
    "\n",
    "data.hist(bins=50, ax=ax, layout=(4,4), column=numeric)\n",
    "plt.tight_layout()\n",
    "plt.show()"
   ]
  },
  {
   "cell_type": "code",
   "execution_count": 36,
   "id": "cd893c89-63af-4fa2-912f-75aed7560e8f",
   "metadata": {
    "tags": []
   },
   "outputs": [],
   "source": [
    "### Kesimpulan tidak terdapat distribusi data yang tidak masuk akal."
   ]
  },
  {
   "cell_type": "code",
   "execution_count": 74,
   "id": "0530afe2-50dc-4219-bec2-de742c7dfc11",
   "metadata": {
    "tags": []
   },
   "outputs": [],
   "source": [
    "data.to_excel('bikestore.xlsx')"
   ]
  },
  {
   "cell_type": "code",
   "execution_count": 82,
   "id": "037e293e-a550-4637-8471-6510b3b6f717",
   "metadata": {
    "tags": []
   },
   "outputs": [],
   "source": [
    "data.to_excel('bikestore.xlsx', index=False)"
   ]
  },
  {
   "cell_type": "code",
   "execution_count": 19,
   "id": "301f49ee-d376-459e-8433-ef1145c22399",
   "metadata": {},
   "outputs": [
    {
     "data": {
      "text/html": [
       "<div>\n",
       "<style scoped>\n",
       "    .dataframe tbody tr th:only-of-type {\n",
       "        vertical-align: middle;\n",
       "    }\n",
       "\n",
       "    .dataframe tbody tr th {\n",
       "        vertical-align: top;\n",
       "    }\n",
       "\n",
       "    .dataframe thead th {\n",
       "        text-align: right;\n",
       "    }\n",
       "</style>\n",
       "<table border=\"1\" class=\"dataframe\">\n",
       "  <thead>\n",
       "    <tr style=\"text-align: right;\">\n",
       "      <th></th>\n",
       "      <th>Order ID</th>\n",
       "      <th>customer</th>\n",
       "      <th>city</th>\n",
       "      <th>state</th>\n",
       "      <th>order_date</th>\n",
       "      <th>total_units</th>\n",
       "      <th>revenue</th>\n",
       "      <th>product_name</th>\n",
       "      <th>category_name</th>\n",
       "      <th>brand_name</th>\n",
       "      <th>store_name</th>\n",
       "      <th>sales_rep</th>\n",
       "    </tr>\n",
       "  </thead>\n",
       "  <tbody>\n",
       "    <tr>\n",
       "      <th>0</th>\n",
       "      <td>1</td>\n",
       "      <td>Johnathan Velazquez</td>\n",
       "      <td>Pleasanton</td>\n",
       "      <td>CA</td>\n",
       "      <td>2016-01-01</td>\n",
       "      <td>2</td>\n",
       "      <td>1199.98</td>\n",
       "      <td>Electra Townie Original 7D EQ - 2016</td>\n",
       "      <td>Cruisers Bicycles</td>\n",
       "      <td>Electra</td>\n",
       "      <td>Santa Cruz Bikes</td>\n",
       "      <td>Mireya Copeland</td>\n",
       "    </tr>\n",
       "    <tr>\n",
       "      <th>1</th>\n",
       "      <td>1</td>\n",
       "      <td>Johnathan Velazquez</td>\n",
       "      <td>Pleasanton</td>\n",
       "      <td>CA</td>\n",
       "      <td>2016-01-01</td>\n",
       "      <td>1</td>\n",
       "      <td>599.99</td>\n",
       "      <td>Electra Townie Original 7D EQ - Women's - 2016</td>\n",
       "      <td>Cruisers Bicycles</td>\n",
       "      <td>Electra</td>\n",
       "      <td>Santa Cruz Bikes</td>\n",
       "      <td>Mireya Copeland</td>\n",
       "    </tr>\n",
       "    <tr>\n",
       "      <th>2</th>\n",
       "      <td>1</td>\n",
       "      <td>Johnathan Velazquez</td>\n",
       "      <td>Pleasanton</td>\n",
       "      <td>CA</td>\n",
       "      <td>2016-01-01</td>\n",
       "      <td>2</td>\n",
       "      <td>3098.00</td>\n",
       "      <td>Surly Straggler - 2016</td>\n",
       "      <td>Cyclocross Bicycles</td>\n",
       "      <td>Surly</td>\n",
       "      <td>Santa Cruz Bikes</td>\n",
       "      <td>Mireya Copeland</td>\n",
       "    </tr>\n",
       "    <tr>\n",
       "      <th>3</th>\n",
       "      <td>1</td>\n",
       "      <td>Johnathan Velazquez</td>\n",
       "      <td>Pleasanton</td>\n",
       "      <td>CA</td>\n",
       "      <td>2016-01-01</td>\n",
       "      <td>1</td>\n",
       "      <td>2899.99</td>\n",
       "      <td>Trek Fuel EX 8 29 - 2016</td>\n",
       "      <td>Mountain Bikes</td>\n",
       "      <td>Trek</td>\n",
       "      <td>Santa Cruz Bikes</td>\n",
       "      <td>Mireya Copeland</td>\n",
       "    </tr>\n",
       "    <tr>\n",
       "      <th>4</th>\n",
       "      <td>1</td>\n",
       "      <td>Johnathan Velazquez</td>\n",
       "      <td>Pleasanton</td>\n",
       "      <td>CA</td>\n",
       "      <td>2016-01-01</td>\n",
       "      <td>2</td>\n",
       "      <td>3599.98</td>\n",
       "      <td>Trek Remedy 29 Carbon Frameset - 2016</td>\n",
       "      <td>Mountain Bikes</td>\n",
       "      <td>Trek</td>\n",
       "      <td>Santa Cruz Bikes</td>\n",
       "      <td>Mireya Copeland</td>\n",
       "    </tr>\n",
       "  </tbody>\n",
       "</table>\n",
       "</div>"
      ],
      "text/plain": [
       "   Order ID             customer        city state order_date  total_units  \\\n",
       "0         1  Johnathan Velazquez  Pleasanton    CA 2016-01-01            2   \n",
       "1         1  Johnathan Velazquez  Pleasanton    CA 2016-01-01            1   \n",
       "2         1  Johnathan Velazquez  Pleasanton    CA 2016-01-01            2   \n",
       "3         1  Johnathan Velazquez  Pleasanton    CA 2016-01-01            1   \n",
       "4         1  Johnathan Velazquez  Pleasanton    CA 2016-01-01            2   \n",
       "\n",
       "   revenue                                    product_name  \\\n",
       "0  1199.98            Electra Townie Original 7D EQ - 2016   \n",
       "1   599.99  Electra Townie Original 7D EQ - Women's - 2016   \n",
       "2  3098.00                          Surly Straggler - 2016   \n",
       "3  2899.99                        Trek Fuel EX 8 29 - 2016   \n",
       "4  3599.98           Trek Remedy 29 Carbon Frameset - 2016   \n",
       "\n",
       "         category_name brand_name        store_name        sales_rep  \n",
       "0    Cruisers Bicycles    Electra  Santa Cruz Bikes  Mireya Copeland  \n",
       "1    Cruisers Bicycles    Electra  Santa Cruz Bikes  Mireya Copeland  \n",
       "2  Cyclocross Bicycles      Surly  Santa Cruz Bikes  Mireya Copeland  \n",
       "3       Mountain Bikes       Trek  Santa Cruz Bikes  Mireya Copeland  \n",
       "4       Mountain Bikes       Trek  Santa Cruz Bikes  Mireya Copeland  "
      ]
     },
     "execution_count": 19,
     "metadata": {},
     "output_type": "execute_result"
    }
   ],
   "source": [
    "data.head()"
   ]
  }
 ],
 "metadata": {
  "kernelspec": {
   "display_name": "Python 3 (ipykernel)",
   "language": "python",
   "name": "python3"
  },
  "language_info": {
   "codemirror_mode": {
    "name": "ipython",
    "version": 3
   },
   "file_extension": ".py",
   "mimetype": "text/x-python",
   "name": "python",
   "nbconvert_exporter": "python",
   "pygments_lexer": "ipython3",
   "version": "3.11.4"
  },
  "toc-showmarkdowntxt": true
 },
 "nbformat": 4,
 "nbformat_minor": 5
}
